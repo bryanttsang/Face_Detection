{
 "cells": [
  {
   "cell_type": "code",
   "execution_count": 1,
   "source": [
    "### imports\n",
    "import cv2\n",
    "import numpy as np"
   ],
   "outputs": [],
   "metadata": {}
  },
  {
   "cell_type": "code",
   "execution_count": 2,
   "source": [
    "### constants\n",
    "bg_size = 249\n",
    "face_size = 184\n",
    "bg_size_test = 564\n",
    "face_size_test = 232\n",
    "dimension = 20 * 15\n",
    "pixels = dimension * 3\n",
    "# pixels = dimension # GRAY"
   ],
   "outputs": [],
   "metadata": {}
  },
  {
   "cell_type": "code",
   "execution_count": 3,
   "source": [
    "### initialization\n",
    "bg = np.zeros((bg_size, pixels))\n",
    "face = np.zeros((face_size, pixels))\n",
    "mu_bg = np.zeros(pixels)\n",
    "mu_face = np.zeros(pixels)\n",
    "sigma_bg = np.zeros((pixels, pixels))\n",
    "sigma_face = np.zeros((pixels, pixels))"
   ],
   "outputs": [],
   "metadata": {}
  },
  {
   "cell_type": "code",
   "execution_count": 4,
   "source": [
    "### define vectorization and conversions\n",
    "# vectorize image in column-major order\n",
    "def vectorize(data, bg_face, i):\n",
    "    path = \"%sData/%s/%03d.jpg\" %(data, bg_face, i+1)\n",
    "    img = cv2.imread(path)\n",
    "\n",
    "    ### use other color space\n",
    "    # img = cv2.cvtColor(img, cv2.COLOR_BGR2HLS)\n",
    "    # img = cv2.cvtColor(img, cv2.COLOR_BGR2HSV)\n",
    "    # img = cv2.cvtColor(img, cv2.COLOR_BGR2LAB)\n",
    "    # img = cv2.cvtColor(img, cv2.COLOR_BGR2LUV)\n",
    "    # img = cv2.cvtColor(img, cv2.COLOR_BGR2XYZ)\n",
    "    # img = cv2.cvtColor(img, cv2.COLOR_BGR2YCrCb)\n",
    "    # img = cv2.cvtColor(img, cv2.COLOR_BGR2YUV)\n",
    "    # img = cv2.cvtColor(img, cv2.COLOR_BGR2GRAY)\n",
    "\n",
    "    return np.reshape(np.reshape(img, (dimension, 3), 'F'), pixels, 'F')\n",
    "    # return np.reshape(img, pixels, 'F') # GRAY"
   ],
   "outputs": [],
   "metadata": {}
  },
  {
   "cell_type": "code",
   "execution_count": 5,
   "source": [
    "### fill matrices with all images and find mu\n",
    "\n",
    "# background\n",
    "for i in range(bg_size):\n",
    "    vec = vectorize(\"training\", \"background\", i)\n",
    "    bg[i] = vec # insert image to background matrix\n",
    "    mu_bg += vec # add to mu vector\n",
    "mu_bg = np.true_divide(mu_bg, bg_size) # divide mu vector by number of images\n",
    "\n",
    "\n",
    "# face\n",
    "for i in range(face_size):\n",
    "    vec = vectorize(\"training\", \"face\", i)\n",
    "    face[i] = vec # insert image to face matrix\n",
    "    mu_face += vec # add to mu vector\n",
    "mu_face = np.true_divide(mu_face, face_size) # divide mu vector by number of images"
   ],
   "outputs": [],
   "metadata": {}
  },
  {
   "cell_type": "code",
   "execution_count": 6,
   "source": [
    "### find covariance\n",
    "\n",
    "# background\n",
    "for i in range(bg_size):\n",
    "    var = bg[i] - mu_bg\n",
    "    sigma_bg += (var * var.T) # apply covariance formula\n",
    "sigma_bg = np.diag(np.true_divide(sigma_bg, bg_size)) # convert to diagonal matrix\n",
    "\n",
    "# face\n",
    "for i in range(face_size):\n",
    "    var = face[i] - mu_face\n",
    "    sigma_face += (var * var.T) # apply covariance formula\n",
    "sigma_face = np.diag(np.true_divide(sigma_face, face_size)) # convert to diagonal matrix"
   ],
   "outputs": [],
   "metadata": {}
  },
  {
   "cell_type": "code",
   "execution_count": 7,
   "source": [
    "### calculate accuracy\n",
    "det_bg = 0\n",
    "det_face = 0\n",
    "\n",
    "# first part of the expression that only needs to be computed once\n",
    "for i in range(pixels):\n",
    "    det_bg += np.log(sigma_bg[i])\n",
    "    det_face += np.log(sigma_face[i])\n",
    "det_bg *= (-0.5)\n",
    "det_face *= (-0.5)\n",
    "\n",
    "# get the probability with Norm_x(mu, sigma)\n",
    "def norm(det, x, mu, sigma):\n",
    "    var = 0\n",
    "    for i in range(pixels):\n",
    "        var += (x[i]-mu[i])**2 / (2*sigma[i])\n",
    "    return det - var\n",
    "\n",
    "# count the number of true positives and the accuracy\n",
    "bg_acc = 0\n",
    "for i in range(bg_size_test):\n",
    "    vec = vectorize(\"testing\", \"background\", i)\n",
    "    bg_acc += (norm(det_bg, vec, mu_bg, sigma_bg) > norm(det_face, vec, mu_face, sigma_face))\n",
    "print(\"Background: %d/564 = %.10f\" %(bg_acc, bg_acc / bg_size_test))\n",
    "\n",
    "face_acc = 0\n",
    "for i in range(face_size_test):\n",
    "    vec = vectorize(\"testing\", \"face\", i)\n",
    "    face_acc += (norm(det_face, vec, mu_face, sigma_face) > norm(det_bg, vec, mu_bg, sigma_bg))\n",
    "print(\"      Face: %d/232 = %.10f\" %(face_acc, face_acc / face_size_test))"
   ],
   "outputs": [
    {
     "output_type": "stream",
     "name": "stdout",
     "text": [
      "Background: 421/564 = 0.7464539007\n",
      "      Face: 191/232 = 0.8232758621\n"
     ]
    }
   ],
   "metadata": {}
  },
  {
   "cell_type": "code",
   "execution_count": 8,
   "source": [
    "### visualization\n",
    "import matplotlib.pyplot as plt\n",
    "from scipy.stats import multivariate_normal\n",
    "import seaborn as sns\n",
    "\n",
    "plt.figure(figsize=(15, 7))\n",
    "\n",
    "# background\n",
    "bg_norm = multivariate_normal(mu_bg, sigma_bg) # model the distribution\n",
    "bg_plot = bg_norm.rvs(size = 10000) # size of random sample\n",
    "plt.subplot(1, 2, 1)\n",
    "sns.histplot(x=bg_plot[:,0], y=bg_plot[:,1], cmap=\"rocket\")\n",
    "#sns.kdeplot(x=data[:,0], y=data[:,1], levels=1, color=\"white\", linewidths=2)\n",
    "plt.title(\"Multivariate Guassian Distribution For Backgrounds\")\n",
    "\n",
    "# face\n",
    "face_norm = multivariate_normal(mu_face, sigma_face) # model the distribution\n",
    "face_plot = face_norm.rvs(size = 10000) # size of random sample\n",
    "plt.subplot(1, 2, 2)\n",
    "sns.histplot(x=face_plot[:,0], y=face_plot[:,1], cmap=\"rocket\")\n",
    "#sns.kdeplot(x=data[:,0], y=data[:,1], levels=1, color=\"white\", linewidths=2)\n",
    "plt.title(\"Multivariate Guassian Distribution For Faces\")\n",
    "\n",
    "plt.show()"
   ],
   "outputs": [
    {
     "output_type": "display_data",
     "data": {
      "image/png": "[encoded data removed]",
      "text/plain": [
       "<Figure size 1080x504 with 2 Axes>"
      ]
     },
     "metadata": {
      "needs_background": "light"
     }
    }
   ],
   "metadata": {}
  }
 ],
 "metadata": {
  "orig_nbformat": 4,
  "language_info": {
   "name": "python",
   "version": "3.9.5",
   "mimetype": "text/x-python",
   "codemirror_mode": {
    "name": "ipython",
    "version": 3
   },
   "pygments_lexer": "ipython3",
   "nbconvert_exporter": "python",
   "file_extension": ".py"
  },
  "kernelspec": {
   "name": "python3",
   "display_name": "Python 3.9.5 64-bit"
  },
  "interpreter": {
   "hash": "aee8b7b246df8f9039afb4144a1f6fd8d2ca17a180786b69acc140d282b71a49"
  }
 },
 "nbformat": 4,
 "nbformat_minor": 2
}